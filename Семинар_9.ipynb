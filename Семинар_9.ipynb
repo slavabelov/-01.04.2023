{
  "nbformat": 4,
  "nbformat_minor": 0,
  "metadata": {
    "colab": {
      "provenance": [],
      "authorship_tag": "ABX9TyMepGla1MBlrP6ql/P1XwWf",
      "include_colab_link": true
    },
    "kernelspec": {
      "name": "python3",
      "display_name": "Python 3"
    },
    "language_info": {
      "name": "python"
    }
  },
  "cells": [
    {
      "cell_type": "markdown",
      "metadata": {
        "id": "view-in-github",
        "colab_type": "text"
      },
      "source": [
        "<a href=\"https://colab.research.google.com/github/slavabelov/-01.04.2023/blob/master/%D0%A1%D0%B5%D0%BC%D0%B8%D0%BD%D0%B0%D1%80_9.ipynb\" target=\"_parent\"><img src=\"https://colab.research.google.com/assets/colab-badge.svg\" alt=\"Open In Colab\"/></a>"
      ]
    },
    {
      "cell_type": "code",
      "execution_count": 1,
      "metadata": {
        "id": "310yhTltGQO-"
      },
      "outputs": [],
      "source": [
        "import pandas as pd"
      ]
    },
    {
      "cell_type": "code",
      "source": [
        "df = pd.read_csv('/content/sample_data/california_housing_train.csv')"
      ],
      "metadata": {
        "id": "yZJNQXZoHD-M"
      },
      "execution_count": 2,
      "outputs": []
    },
    {
      "cell_type": "markdown",
      "source": [
        "**Задача 40:** Определить среднюю стоимость дома, где кол-во людей от 0 до 500 (population)."
      ],
      "metadata": {
        "id": "O8sZcvUGISif"
      }
    },
    {
      "cell_type": "code",
      "source": [
        "df[df['population'] > 0][df['population'] < 500]['median_house_value'].mean"
      ],
      "metadata": {
        "colab": {
          "base_uri": "https://localhost:8080/"
        },
        "id": "t4CxRj6AIryE",
        "outputId": "39de5702-707c-48d3-b634-b71910e6efed"
      },
      "execution_count": 5,
      "outputs": [
        {
          "output_type": "execute_result",
          "data": {
            "text/plain": [
              "<bound method NDFrame._add_numeric_operations.<locals>.mean of 2         85700.0\n",
              "7         48500.0\n",
              "17        25000.0\n",
              "19        27500.0\n",
              "21        59200.0\n",
              "           ...   \n",
              "16944    130600.0\n",
              "16951     67500.0\n",
              "16969     60000.0\n",
              "16982    107000.0\n",
              "16994     76100.0\n",
              "Name: median_house_value, Length: 1601, dtype: float64>"
            ]
          },
          "metadata": {},
          "execution_count": 5
        }
      ]
    },
    {
      "cell_type": "markdown",
      "source": [
        "**Задача 42:** Узнать какая максимальная households в зоне минимального значения population."
      ],
      "metadata": {
        "id": "N7FcrxbPJA-J"
      }
    },
    {
      "cell_type": "code",
      "source": [
        "df[df['population'] == df['population'].min()]['households'].max()"
      ],
      "metadata": {
        "colab": {
          "base_uri": "https://localhost:8080/"
        },
        "id": "YKVCQzClJGC2",
        "outputId": "dadb673d-9c84-41c9-dd2c-542b5ef588ac"
      },
      "execution_count": 8,
      "outputs": [
        {
          "output_type": "execute_result",
          "data": {
            "text/plain": [
              "4.0"
            ]
          },
          "metadata": {},
          "execution_count": 8
        }
      ]
    }
  ]
}